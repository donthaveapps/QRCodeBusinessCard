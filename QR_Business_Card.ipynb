{
  "nbformat": 4,
  "nbformat_minor": 0,
  "metadata": {
    "colab": {
      "name": "QR Business Card.ipynb",
      "version": "0.3.2",
      "provenance": [],
      "collapsed_sections": [],
      "include_colab_link": true
    },
    "kernelspec": {
      "name": "python3",
      "display_name": "Python 3"
    }
  },
  "cells": [
    {
      "cell_type": "markdown",
      "metadata": {
        "id": "view-in-github",
        "colab_type": "text"
      },
      "source": [
        "<a href=\"https://colab.research.google.com/github/donthaveapps/QRCodeBusinessCard/blob/master/QR_Business_Card.ipynb\" target=\"_parent\"><img src=\"https://colab.research.google.com/assets/colab-badge.svg\" alt=\"Open In Colab\"/></a>"
      ]
    },
    {
      "cell_type": "markdown",
      "metadata": {
        "id": "YqAB7PxwaKpA",
        "colab_type": "text"
      },
      "source": [
        "# Very simple QR Code business card generator\n",
        "1.   Fill in your contact details below, then click the \"RUN\" button to the left.\n",
        "2.   Click somewhere in the code that follows, then click the \"RUN\" button to the left of that.\n",
        "3.   Scan, check the details and download your QR Code business card!\n",
        "\n"
      ]
    },
    {
      "cell_type": "code",
      "metadata": {
        "id": "amK8BDyB_--J",
        "colab_type": "code",
        "cellView": "form",
        "colab": {}
      },
      "source": [
        "#@title Input Contact Details\n",
        "First_Name = \"Theo Radical\" #@param {type:\"string\"}\n",
        "Last_Name = \"Lee\" #@param {type:\"string\"}\n",
        "Organisation = \"Skysthe Ltd\" #@param {type:\"string\"}\n",
        "Title = \"Thinker\" #@param {type:\"string\"}\n",
        "Phone = \"+852 91919191\" #@param {type:\"string\"}\n",
        "Email = \"theoradicallee@odds.com\" #@param {type:\"string\"}"
      ],
      "execution_count": 0,
      "outputs": []
    },
    {
      "cell_type": "code",
      "metadata": {
        "id": "hZlfEy_yKr6X",
        "colab_type": "code",
        "colab": {}
      },
      "source": [
        "!pip install qrcode[pil]\n",
        "import datetime, qrcode\n",
        "\n",
        "# Concatenate contact details\n",
        "Contact_Detail_Str = f'BEGIN:VCARD\\nVERSION:3.0\\nN:{Last_Name};{First_Name};;;\\nORG:{Organisation}\\nTITLE:{Title}\\nTEL;TYPE=WORK,VOICE:{Phone}\\nEMAIL:{Email}\\nEND:VCARD'\n",
        "\n",
        "# Generate QR code\n",
        "img = qrcode.make(Contact_Detail_Str)\n",
        "img"
      ],
      "execution_count": 0,
      "outputs": []
    }
  ]
}