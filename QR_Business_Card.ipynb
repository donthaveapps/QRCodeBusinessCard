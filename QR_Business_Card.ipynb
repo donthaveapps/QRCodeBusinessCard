{
  "nbformat": 4,
  "nbformat_minor": 0,
  "metadata": {
    "colab": {
      "name": "QR Business Card.ipynb",
      "version": "0.3.2",
      "provenance": [],
      "collapsed_sections": [],
      "include_colab_link": true
    },
    "kernelspec": {
      "name": "python3",
      "display_name": "Python 3"
    }
  },
  "cells": [
    {
      "cell_type": "markdown",
      "metadata": {
        "id": "view-in-github",
        "colab_type": "text"
      },
      "source": [
        "<a href=\"https://colab.research.google.com/github/donthaveapps/QRCodeBusinessCard/blob/master/QR_Business_Card.ipynb\" target=\"_parent\"><img src=\"https://colab.research.google.com/assets/colab-badge.svg\" alt=\"Open In Colab\"/></a>"
      ]
    },
    {
      "cell_type": "markdown",
      "metadata": {
        "id": "YqAB7PxwaKpA",
        "colab_type": "text"
      },
      "source": [
        "# Very simple QR Code business card generator\n",
        "1.   Fill in your contact details in the first cell, click RUN.\n",
        "2.   RUN the code in the second cell\n",
        "3.   Download your QR Code business card!\n",
        "\n"
      ]
    },
    {
      "cell_type": "code",
      "metadata": {
        "id": "amK8BDyB_--J",
        "colab_type": "code",
        "cellView": "form",
        "colab": {}
      },
      "source": [
        "#@title Input Contact Details\n",
        "First_Name = \"A\" #@param {type:\"string\"}\n",
        "Last_Name = \"Lee\" #@param {type:\"string\"}\n",
        "Organisation = \"A Lee Ltd.\" #@param {type:\"string\"}\n",
        "# Title = \"Engineer\" #@param {type:\"string\"}\n",
        "Phone = \"+852 91919191\" #@param {type:\"string\"}\n",
        "Email = \"alee@aleeltd.com\" #@param {type:\"string\"}"
      ],
      "execution_count": 0,
      "outputs": []
    },
    {
      "cell_type": "code",
      "metadata": {
        "id": "hZlfEy_yKr6X",
        "colab_type": "code",
        "outputId": "b07d6974-b248-44f1-8a61-a3d26ea10a92",
        "colab": {
          "base_uri": "https://localhost:8080/",
          "height": 615
        }
      },
      "source": [
        "!pip install qrcode[pil]\n",
        "import datetime\n",
        "import qrcode\n",
        "import requests\n",
        "\n",
        "# Concatenate contact details\n",
        "Contact_Detail_Str = f'BEGIN:VCARD\\nVERSION:3.0\\n\\\n",
        "N:{Last_Name};{First_Name};;;\\nORG:{Organisation}\\n\\\n",
        "TEL;TYPE=WORK,VOICE:{Phone}\\nEMAIL:{Email}\\nEND:VCARD'\n",
        "\n",
        "# Generate QR code\n",
        "img = qrcode.make(Contact_Detail_Str)\n",
        "img"
      ],
      "execution_count": 66,
      "outputs": [
        {
          "output_type": "stream",
          "text": [
            "Requirement already satisfied: qrcode[pil] in /usr/local/lib/python3.6/dist-packages (6.1)\n",
            "Requirement already satisfied: six in /usr/local/lib/python3.6/dist-packages (from qrcode[pil]) (1.12.0)\n",
            "Requirement already satisfied: pillow; extra == \"pil\" in /usr/local/lib/python3.6/dist-packages (from qrcode[pil]) (4.3.0)\n",
            "Requirement already satisfied: olefile in /usr/local/lib/python3.6/dist-packages (from pillow; extra == \"pil\"->qrcode[pil]) (0.46)\n"
          ],
          "name": "stdout"
        },
        {
          "output_type": "execute_result",
          "data": {
            "image/png": "[encoded data removed]",
            "text/plain": [
              "<qrcode.image.pil.PilImage at 0x7f4c7c5e04a8>"
            ]
          },
          "metadata": {
            "tags": []
          },
          "execution_count": 66
        }
      ]
    }
  ]
}