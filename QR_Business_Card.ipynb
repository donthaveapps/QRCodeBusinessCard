{
  "nbformat": 4,
  "nbformat_minor": 0,
  "metadata": {
    "colab": {
      "name": "QR Business Card.ipynb",
      "provenance": [],
      "collapsed_sections": [],
      "include_colab_link": true
    },
    "kernelspec": {
      "name": "python3",
      "display_name": "Python 3"
    }
  },
  "cells": [
    {
      "cell_type": "markdown",
      "metadata": {
        "id": "view-in-github",
        "colab_type": "text"
      },
      "source": [
        "<a href=\"https://colab.research.google.com/github/donthaveapps/QRCodeBusinessCard/blob/master/QR_Business_Card.ipynb\" target=\"_parent\"><img src=\"https://colab.research.google.com/assets/colab-badge.svg\" alt=\"Open In Colab\"/></a>"
      ]
    },
    {
      "cell_type": "markdown",
      "metadata": {
        "id": "YqAB7PxwaKpA"
      },
      "source": [
        "# Very simple QR Code business card generator\n",
        "1.   Fill in your contact details below, then click the \"RUN\" button to the left.\n",
        "2.   Click somewhere in the code that follows, then click the \"RUN\" button to the left of that.\n",
        "3.   Scan, check the details and download your QR Code business card!\n",
        "\n"
      ]
    },
    {
      "cell_type": "code",
      "metadata": {
        "id": "amK8BDyB_--J"
      },
      "source": [
        "#@title Input Contact Details\n",
        "First_Name = \"\" #@param {type:\"string\"}\n",
        "Last_Name = \"\" #@param {type:\"string\"}\n",
        "Organisation = \"\" #@param {type:\"string\"}\n",
        "Title = \"\" #@param {type:\"string\"}\n",
        "Phone = \"\" #@param {type:\"string\"}\n",
        "Email = \"\" #@param {type:\"string\"}"
      ],
      "execution_count": 9,
      "outputs": []
    },
    {
      "cell_type": "code",
      "metadata": {
        "id": "hZlfEy_yKr6X",
        "colab": {
          "base_uri": "https://localhost:8080/",
          "height": 679
        },
        "outputId": "2d3cdc74-1a35-44d1-96cc-9d2f06a5cabc"
      },
      "source": [
        "!pip install qrcode[pil]\n",
        "import qrcode\n",
        "# https://pypi.org/project/qrcode/\n",
        "\n",
        "# Concatenate contact details\n",
        "Contact_Detail_Str = f'BEGIN:VCARD\\nVERSION:3.0\\nN:{Last_Name};{First_Name};;;\\nORG:{Organisation}\\nTITLE:{Title}\\nTEL;TYPE=WORK,VOICE:{Phone}\\nEMAIL:{Email}\\nEND:VCARD'\n",
        "# img = qrcode.make(Contact_Detail_Str)\n",
        "# img\n",
        "\n",
        "# Generate QR code\n",
        "qr = qrcode.QRCode(\n",
        "    # version=1,\n",
        "    error_correction=qrcode.constants.ERROR_CORRECT_M,\n",
        "    # box_size=10,\n",
        "    # border=4,\n",
        ")\n",
        "\n",
        "qr.add_data(Contact_Detail_Str)\n",
        "qr.make(fit=True)\n",
        "\n",
        "img = qr.make_image(fill_color=\"black\", back_color=\"white\")\n",
        "img"
      ],
      "execution_count": 7,
      "outputs": [
        {
          "output_type": "stream",
          "name": "stdout",
          "text": [
            "Looking in indexes: https://pypi.org/simple, https://us-python.pkg.dev/colab-wheels/public/simple/\n",
            "Requirement already satisfied: qrcode[pil] in /usr/local/lib/python3.7/dist-packages (7.3.1)\n",
            "Requirement already satisfied: pillow in /usr/local/lib/python3.7/dist-packages (from qrcode[pil]) (7.1.2)\n"
          ]
        },
        {
          "output_type": "execute_result",
          "data": {
            "text/plain": [
              "<qrcode.image.pil.PilImage at 0x7f0ae8a488d0>"
            ],
            "image/png": "[encoded data removed]"
          },
          "metadata": {},
          "execution_count": 7
        }
      ]
    }
  ]
}